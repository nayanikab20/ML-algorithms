{
  "nbformat": 4,
  "nbformat_minor": 0,
  "metadata": {
    "colab": {
      "name": "LDA from scratch.ipynb",
      "provenance": [],
      "collapsed_sections": [],
      "authorship_tag": "ABX9TyOqhM1MISbQmNG6sTsQskQr",
      "include_colab_link": true
    },
    "kernelspec": {
      "name": "python3",
      "display_name": "Python 3"
    },
    "language_info": {
      "name": "python"
    }
  },
  "cells": [
    {
      "cell_type": "markdown",
      "metadata": {
        "id": "view-in-github",
        "colab_type": "text"
      },
      "source": [
        "<a href=\"https://colab.research.google.com/github/nayanikab20/ML-algorithms/blob/main/LDA_from_scratch.ipynb\" target=\"_parent\"><img src=\"https://colab.research.google.com/assets/colab-badge.svg\" alt=\"Open In Colab\"/></a>"
      ]
    },
    {
      "cell_type": "code",
      "metadata": {
        "id": "1oGqQRzJI-Ym"
      },
      "source": [
        "from sklearn.datasets import load_wine\n",
        "import pandas as pd\n",
        "import numpy as np\n",
        "from matplotlib import pyplot as plt\n",
        "import seaborn as sb\n",
        "\n",
        "from sklearn.preprocessing import LabelEncoder\n",
        "from sklearn.cluster import KMeans\n",
        "from sklearn.model_selection import train_test_split\n",
        "from sklearn.metrics import confusion_matrix"
      ],
      "execution_count": null,
      "outputs": []
    },
    {
      "cell_type": "code",
      "metadata": {
        "id": "kSy33sIVKHv9"
      },
      "source": [
        "# loading dataset into a dataframe\n",
        "\n",
        "wine=load_wine()\n",
        "\n",
        "X = pd.DataFrame(wine.data, columns=wine.feature_names)\n",
        "Y = pd.Categorical.from_codes(wine.target, wine.target_names)"
      ],
      "execution_count": null,
      "outputs": []
    },
    {
      "cell_type": "code",
      "metadata": {
        "colab": {
          "base_uri": "https://localhost:8080/",
          "height": 204
        },
        "id": "1bN4pRcWLqDo",
        "outputId": "300a01f8-9946-4c73-d00d-7a7f3ee8edd8"
      },
      "source": [
        "X.head()"
      ],
      "execution_count": null,
      "outputs": [
        {
          "output_type": "execute_result",
          "data": {
            "text/html": [
              "<div>\n",
              "<style scoped>\n",
              "    .dataframe tbody tr th:only-of-type {\n",
              "        vertical-align: middle;\n",
              "    }\n",
              "\n",
              "    .dataframe tbody tr th {\n",
              "        vertical-align: top;\n",
              "    }\n",
              "\n",
              "    .dataframe thead th {\n",
              "        text-align: right;\n",
              "    }\n",
              "</style>\n",
              "<table border=\"1\" class=\"dataframe\">\n",
              "  <thead>\n",
              "    <tr style=\"text-align: right;\">\n",
              "      <th></th>\n",
              "      <th>alcohol</th>\n",
              "      <th>malic_acid</th>\n",
              "      <th>ash</th>\n",
              "      <th>alcalinity_of_ash</th>\n",
              "      <th>magnesium</th>\n",
              "      <th>total_phenols</th>\n",
              "      <th>flavanoids</th>\n",
              "      <th>nonflavanoid_phenols</th>\n",
              "      <th>proanthocyanins</th>\n",
              "      <th>color_intensity</th>\n",
              "      <th>hue</th>\n",
              "      <th>od280/od315_of_diluted_wines</th>\n",
              "      <th>proline</th>\n",
              "    </tr>\n",
              "  </thead>\n",
              "  <tbody>\n",
              "    <tr>\n",
              "      <th>0</th>\n",
              "      <td>14.23</td>\n",
              "      <td>1.71</td>\n",
              "      <td>2.43</td>\n",
              "      <td>15.6</td>\n",
              "      <td>127.0</td>\n",
              "      <td>2.80</td>\n",
              "      <td>3.06</td>\n",
              "      <td>0.28</td>\n",
              "      <td>2.29</td>\n",
              "      <td>5.64</td>\n",
              "      <td>1.04</td>\n",
              "      <td>3.92</td>\n",
              "      <td>1065.0</td>\n",
              "    </tr>\n",
              "    <tr>\n",
              "      <th>1</th>\n",
              "      <td>13.20</td>\n",
              "      <td>1.78</td>\n",
              "      <td>2.14</td>\n",
              "      <td>11.2</td>\n",
              "      <td>100.0</td>\n",
              "      <td>2.65</td>\n",
              "      <td>2.76</td>\n",
              "      <td>0.26</td>\n",
              "      <td>1.28</td>\n",
              "      <td>4.38</td>\n",
              "      <td>1.05</td>\n",
              "      <td>3.40</td>\n",
              "      <td>1050.0</td>\n",
              "    </tr>\n",
              "    <tr>\n",
              "      <th>2</th>\n",
              "      <td>13.16</td>\n",
              "      <td>2.36</td>\n",
              "      <td>2.67</td>\n",
              "      <td>18.6</td>\n",
              "      <td>101.0</td>\n",
              "      <td>2.80</td>\n",
              "      <td>3.24</td>\n",
              "      <td>0.30</td>\n",
              "      <td>2.81</td>\n",
              "      <td>5.68</td>\n",
              "      <td>1.03</td>\n",
              "      <td>3.17</td>\n",
              "      <td>1185.0</td>\n",
              "    </tr>\n",
              "    <tr>\n",
              "      <th>3</th>\n",
              "      <td>14.37</td>\n",
              "      <td>1.95</td>\n",
              "      <td>2.50</td>\n",
              "      <td>16.8</td>\n",
              "      <td>113.0</td>\n",
              "      <td>3.85</td>\n",
              "      <td>3.49</td>\n",
              "      <td>0.24</td>\n",
              "      <td>2.18</td>\n",
              "      <td>7.80</td>\n",
              "      <td>0.86</td>\n",
              "      <td>3.45</td>\n",
              "      <td>1480.0</td>\n",
              "    </tr>\n",
              "    <tr>\n",
              "      <th>4</th>\n",
              "      <td>13.24</td>\n",
              "      <td>2.59</td>\n",
              "      <td>2.87</td>\n",
              "      <td>21.0</td>\n",
              "      <td>118.0</td>\n",
              "      <td>2.80</td>\n",
              "      <td>2.69</td>\n",
              "      <td>0.39</td>\n",
              "      <td>1.82</td>\n",
              "      <td>4.32</td>\n",
              "      <td>1.04</td>\n",
              "      <td>2.93</td>\n",
              "      <td>735.0</td>\n",
              "    </tr>\n",
              "  </tbody>\n",
              "</table>\n",
              "</div>"
            ],
            "text/plain": [
              "   alcohol  malic_acid   ash  ...   hue  od280/od315_of_diluted_wines  proline\n",
              "0    14.23        1.71  2.43  ...  1.04                          3.92   1065.0\n",
              "1    13.20        1.78  2.14  ...  1.05                          3.40   1050.0\n",
              "2    13.16        2.36  2.67  ...  1.03                          3.17   1185.0\n",
              "3    14.37        1.95  2.50  ...  0.86                          3.45   1480.0\n",
              "4    13.24        2.59  2.87  ...  1.04                          2.93    735.0\n",
              "\n",
              "[5 rows x 13 columns]"
            ]
          },
          "metadata": {
            "tags": []
          },
          "execution_count": 38
        }
      ]
    },
    {
      "cell_type": "code",
      "metadata": {
        "id": "iw5Od4zJubF3"
      },
      "source": [
        "def within_class_scatter_matrix(df, feature_n, class_feature_means):\n",
        "  \"\"\"Calculate sum of within class covariances of all classes\n",
        "  \"\"\"\n",
        "  within_class_scatter_matrix=np.zeros((feature_n,feature_n))\n",
        "\n",
        "  for classes, rows in df.groupby('Class'):\n",
        "    rows=rows.drop(['Class'], axis=1) \n",
        "    s = np.zeros((feature_n,feature_n))\n",
        "\n",
        "    for index, row in rows.iterrows():\n",
        "      x, mc = row.values.reshape(feature_n,1), class_feature_means[classes].values.reshape(feature_n,1)\n",
        "        \n",
        "      s += (x - mc).dot((x - mc).T)\n",
        "      assert s.shape == (feature_n,feature_n)\n",
        "    \n",
        "      within_class_scatter_matrix += s\n",
        "\n",
        "  return within_class_scatter_matrix"
      ],
      "execution_count": null,
      "outputs": []
    },
    {
      "cell_type": "code",
      "metadata": {
        "id": "AmCZ_FOgQ3c4"
      },
      "source": [
        "def between_class_scatter_matrix(df, feature_n, class_feature_means):\n",
        "  \"\"\" Calculate scatter matrix between all classes\n",
        "  \"\"\"\n",
        "\n",
        "  feature_means = df.mean()\n",
        "  between_class_scatter_matrix = np.zeros((feature_n,feature_n))\n",
        "  for c in class_feature_means:    \n",
        "    n = len(df.loc[df['Class'] == c].index)\n",
        "    \n",
        "    mc, m = class_feature_means[c].values.reshape(feature_n,1), feature_means.values.reshape(feature_n,1)\n",
        "    \n",
        "    between_class_scatter_matrix += n * (mc - m).dot((mc - m).T)\n",
        "\n",
        "  return between_class_scatter_matrix"
      ],
      "execution_count": null,
      "outputs": []
    },
    {
      "cell_type": "code",
      "metadata": {
        "id": "V24iBwsHoq0W"
      },
      "source": [
        "def LDA(df):\n",
        "  \"\"\" This function performs the linear discriminant analysis of the dataset\n",
        "  \n",
        "  Args:\n",
        "    df(Dataframe): dataset with features and labels\n",
        "    Sw(NxN matrix): sum of within class scatter matrices\n",
        "    Sb(NxN matrix): inter-class scatter matrix\n",
        "\n",
        "  Return:\n",
        "    eigenvectors(N Nx1 vectors): LDA components(Eigenvectors)\n",
        "    eigenvalues(1D array): corresponding eigenvalues\n",
        "  \"\"\"\n",
        "\n",
        "  # calculating the classwise mean of every feature\n",
        "  class_feature_means = pd.DataFrame(columns=wine.target_names)\n",
        "  for c, rows in df.groupby('Class'):\n",
        "    class_feature_means[c] = rows.mean()\n",
        "\n",
        "  feature_n = len(df.columns) - 1 # excluding class\n",
        "  assert feature_n == 13\n",
        "\n",
        "  Sw = within_class_scatter_matrix(df, feature_n, class_feature_means)\n",
        "  Sb = between_class_scatter_matrix(df, feature_n, class_feature_means)\n",
        "  \n",
        "  # calculating the eigenvectors(LDA components) and corresponding eigenvalues\n",
        "  eigenvalues, eigenvectors = np.linalg.eig(np.linalg.inv(Sw).dot(Sb))\n",
        "\n",
        "  return eigenvalues, eigenvectors"
      ],
      "execution_count": null,
      "outputs": []
    },
    {
      "cell_type": "code",
      "metadata": {
        "colab": {
          "base_uri": "https://localhost:8080/"
        },
        "id": "Lb2o0BD6SU9f",
        "outputId": "ab295e94-181b-4859-f507-9fe7921b6040"
      },
      "source": [
        "# splitting data into test and train set - 30 - 70 split\n",
        "\n",
        "X_train, X_test, Y_train, Y_test = train_test_split(X, Y, test_size=0.2, shuffle=True)\n",
        "\n",
        "df_train=X_train.join(pd.Series(Y_train, name='Class')) # joining data and labels\n",
        "\n",
        "#df=X.join(pd.Series(Y, name='Class')) # joining data and labels\n",
        "\n",
        "eigen_values, eigen_vectors = LDA(df_train)\n",
        "\n",
        "pairs = [(np.abs(eigen_values[i]), eigen_vectors[:,i]) for i in range(len(eigen_values))]\n",
        "pairs = sorted(pairs, key=lambda x: x[0], reverse=True)\n",
        "\n",
        "\n",
        "eigen_value_sums = sum(eigen_values)\n",
        "print('Explained Varience by each eigenvector ')\n",
        "for i, pair in enumerate(pairs):\n",
        "    print('Eigenvector {}: {}'.format(i, (pair[0]/eigen_value_sums).real))\n",
        "\n",
        "# choosing 2 most significant eigenvectors\n",
        "w_matrix = np.hstack((pairs[0][1].reshape(13,1), pairs[1][1].reshape(13,1))).real\n",
        "print('The 2 eigenvectors are :{}',format(w_matrix))\n",
        "\n",
        "X_lda = np.array(X_train.dot(w_matrix)) # projecting samples to new bases\n",
        "\n",
        "le = LabelEncoder()\n",
        "Y_train_code = le.fit_transform(Y_train)\n"
      ],
      "execution_count": null,
      "outputs": [
        {
          "output_type": "stream",
          "text": [
            "Explained Varience by each eigenvector \n",
            "Eigenvector 0: 0.7854973284936229\n",
            "Eigenvector 1: 0.15631993406322234\n",
            "Eigenvector 2: 0.05818273744315455\n",
            "Eigenvector 3: 2.582181694561556e-16\n",
            "Eigenvector 4: 7.646458339170955e-17\n",
            "Eigenvector 5: 7.05282282850315e-17\n",
            "Eigenvector 6: 7.05282282850315e-17\n",
            "Eigenvector 7: 4.245615453935202e-17\n",
            "Eigenvector 8: 3.011696488708614e-17\n",
            "Eigenvector 9: 1.88458034000574e-17\n",
            "Eigenvector 10: 1.766515637192773e-17\n",
            "Eigenvector 11: 1.766515637192773e-17\n",
            "Eigenvector 12: 3.2220606380815288e-18\n",
            "The 2 eigenvectors are :{} [[ 5.36444238e-02  8.78719102e-02]\n",
            " [ 3.69021134e-02  3.99153553e-02]\n",
            " [ 7.86858267e-02  4.54832353e-01]\n",
            " [ 2.65716281e-02 -2.84144762e-02]\n",
            " [-3.23123426e-03 -1.91514998e-03]\n",
            " [ 2.48380559e-01  7.89919713e-02]\n",
            " [-6.87879921e-01  2.51132898e-02]\n",
            " [-4.25883445e-01 -6.93645488e-01]\n",
            " [ 3.56328147e-01 -1.44818251e-01]\n",
            " [ 3.62321239e-01 -4.66096146e-02]\n",
            " [ 9.97609252e-02  4.64281637e-01]\n",
            " [ 6.63679075e-02 -2.37244049e-01]\n",
            " [-8.89387562e-04 -5.83832846e-04]]\n"
          ],
          "name": "stdout"
        }
      ]
    },
    {
      "cell_type": "code",
      "metadata": {
        "colab": {
          "base_uri": "https://localhost:8080/",
          "height": 447
        },
        "id": "sMwRk48_KVnw",
        "outputId": "ce01b15a-4e2e-46ad-c10e-48fcaf42ec71"
      },
      "source": [
        "figure=plt.figure(figsize=(10,7))\n",
        "ax=plt.axes(projection=None)\n",
        "ax.scatter(\n",
        "    X_lda[:,0],\n",
        "    X_lda[:,1],\n",
        "    c=Y_train_code,\n",
        "    cmap='rainbow',\n",
        "    alpha=0.7,\n",
        "    edgecolors='b'\n",
        ")"
      ],
      "execution_count": null,
      "outputs": [
        {
          "output_type": "execute_result",
          "data": {
            "text/plain": [
              "<matplotlib.collections.PathCollection at 0x7f74078eb450>"
            ]
          },
          "metadata": {
            "tags": []
          },
          "execution_count": 46
        },
        {
          "output_type": "display_data",
          "data": {
            "image/png": "[encoded data removed]",
            "text/plain": [
              "<Figure size 720x504 with 1 Axes>"
            ]
          },
          "metadata": {
            "tags": [],
            "needs_background": "light"
          }
        }
      ]
    },
    {
      "cell_type": "code",
      "metadata": {
        "colab": {
          "base_uri": "https://localhost:8080/",
          "height": 445
        },
        "id": "4mnVMl4vrrYl",
        "outputId": "de2fe155-c61b-4aa8-8910-916e6c234fcf"
      },
      "source": [
        "# testing\n",
        "\n",
        "X_test_lda = np.array(X_test.dot(w_matrix))\n",
        "\n",
        "Y_test_code = le.fit_transform(Y_test)\n",
        "\n",
        "figure=plt.figure(figsize=(10,7))\n",
        "ax=plt.axes(projection=None)\n",
        "ax.scatter(\n",
        "    X_test_lda[:,0],\n",
        "    X_test_lda[:,1],\n",
        "    c=Y_test_code,\n",
        "    cmap='rainbow',\n",
        "    alpha=0.7,\n",
        "    edgecolors='b'\n",
        ")"
      ],
      "execution_count": null,
      "outputs": [
        {
          "output_type": "execute_result",
          "data": {
            "text/plain": [
              "<matplotlib.collections.PathCollection at 0x7f740793eb50>"
            ]
          },
          "metadata": {
            "tags": []
          },
          "execution_count": 51
        },
        {
          "output_type": "display_data",
          "data": {
            "image/png": "[encoded data removed]",
            "text/plain": [
              "<Figure size 720x504 with 1 Axes>"
            ]
          },
          "metadata": {
            "tags": [],
            "needs_background": "light"
          }
        }
      ]
    },
    {
      "cell_type": "code",
      "metadata": {
        "id": "r8jQQRNaw9AW"
      },
      "source": [
        "# clustering using K means\n",
        "\n",
        "kmeans = KMeans(n_clusters=3,init='random')\n",
        "kmeans.fit(X_test_lda)\n",
        "KMeans_Y = kmeans.predict(X_test_lda)"
      ],
      "execution_count": null,
      "outputs": []
    },
    {
      "cell_type": "code",
      "metadata": {
        "colab": {
          "base_uri": "https://localhost:8080/",
          "height": 445
        },
        "id": "1Oi6HFx01CfG",
        "outputId": "2ebd8666-efd0-485b-8013-6cd823538128"
      },
      "source": [
        "figure=plt.figure(figsize=(10,7))\n",
        "ax=plt.axes(projection=None)\n",
        "ax.scatter(\n",
        "    X_test_lda[:,0],\n",
        "    X_test_lda[:,1],\n",
        "    c=KMeans_Y,\n",
        "    cmap='rainbow',\n",
        "    alpha=0.7,\n",
        "    edgecolors='b'\n",
        ")"
      ],
      "execution_count": null,
      "outputs": [
        {
          "output_type": "execute_result",
          "data": {
            "text/plain": [
              "<matplotlib.collections.PathCollection at 0x7f740459df10>"
            ]
          },
          "metadata": {
            "tags": []
          },
          "execution_count": 57
        },
        {
          "output_type": "display_data",
          "data": {
            "image/png": "[encoded data removed]",
            "text/plain": [
              "<Figure size 720x504 with 1 Axes>"
            ]
          },
          "metadata": {
            "tags": [],
            "needs_background": "light"
          }
        }
      ]
    },
    {
      "cell_type": "code",
      "metadata": {
        "colab": {
          "base_uri": "https://localhost:8080/"
        },
        "id": "zzhcjOOz1MWT",
        "outputId": "e6281348-394b-4079-8378-7fd773e41f4e"
      },
      "source": [
        "# accuracy in test set\n",
        "\n",
        "total_samples = len(Y_test_code)\n",
        "\n",
        "assert len(KMeans_Y)==total_samples\n",
        "\n",
        "count=0\n",
        "for i in range(total_samples):\n",
        "   if KMeans_Y[i]==Y_test_code[i]:\n",
        "     count=count+1\n",
        "\n",
        "accuracy=count/total_samples\n",
        "\n",
        "print('Acurracy is {}'.format(accuracy))"
      ],
      "execution_count": null,
      "outputs": [
        {
          "output_type": "stream",
          "text": [
            "0.6111111111111112\n"
          ],
          "name": "stdout"
        }
      ]
    }
  ]
}