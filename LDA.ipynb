{
  "nbformat": 4,
  "nbformat_minor": 0,
  "metadata": {
    "colab": {
      "name": "LDA.ipynb",
      "provenance": [],
      "collapsed_sections": [],
      "authorship_tag": "ABX9TyOkFadr/63ph1e8J+iqKaat",
      "include_colab_link": true
    },
    "kernelspec": {
      "name": "python3",
      "display_name": "Python 3"
    },
    "language_info": {
      "name": "python"
    }
  },
  "cells": [
    {
      "cell_type": "markdown",
      "metadata": {
        "id": "view-in-github",
        "colab_type": "text"
      },
      "source": [
        "<a href=\"https://colab.research.google.com/github/nayanikab20/ML-algorithms/blob/main/LDA.ipynb\" target=\"_parent\"><img src=\"https://colab.research.google.com/assets/colab-badge.svg\" alt=\"Open In Colab\"/></a>"
      ]
    },
    {
      "cell_type": "code",
      "metadata": {
        "id": "1oGqQRzJI-Ym"
      },
      "source": [
        "from sklearn.datasets import load_wine\n",
        "import pandas as pd\n",
        "import numpy as np\n",
        "from matplotlib import pyplot as plt\n",
        "import seaborn as sb\n",
        "\n",
        "from sklearn.preprocessing import LabelEncoder\n",
        "from sklearn.tree import DecisionTreeClassifier\n",
        "from sklearn.model_selection import train_test_split\n",
        "from sklearn.metrics import confusion_matrix"
      ],
      "execution_count": 4,
      "outputs": []
    },
    {
      "cell_type": "code",
      "metadata": {
        "id": "kSy33sIVKHv9"
      },
      "source": [
        "# loading dataset into a dataframe\n",
        "\n",
        "wine=load_wine()\n",
        "\n",
        "X = pd.DataFrame(wine.data, columns=wine.feature_names)\n",
        "Y = pd.Categorical.from_codes(wine.target, wine.target_names)"
      ],
      "execution_count": 5,
      "outputs": []
    },
    {
      "cell_type": "code",
      "metadata": {
        "colab": {
          "base_uri": "https://localhost:8080/",
          "height": 204
        },
        "id": "1bN4pRcWLqDo",
        "outputId": "b72a7919-f3c0-4190-a54c-274898210970"
      },
      "source": [
        "X.head()"
      ],
      "execution_count": 6,
      "outputs": [
        {
          "output_type": "execute_result",
          "data": {
            "text/html": [
              "<div>\n",
              "<style scoped>\n",
              "    .dataframe tbody tr th:only-of-type {\n",
              "        vertical-align: middle;\n",
              "    }\n",
              "\n",
              "    .dataframe tbody tr th {\n",
              "        vertical-align: top;\n",
              "    }\n",
              "\n",
              "    .dataframe thead th {\n",
              "        text-align: right;\n",
              "    }\n",
              "</style>\n",
              "<table border=\"1\" class=\"dataframe\">\n",
              "  <thead>\n",
              "    <tr style=\"text-align: right;\">\n",
              "      <th></th>\n",
              "      <th>alcohol</th>\n",
              "      <th>malic_acid</th>\n",
              "      <th>ash</th>\n",
              "      <th>alcalinity_of_ash</th>\n",
              "      <th>magnesium</th>\n",
              "      <th>total_phenols</th>\n",
              "      <th>flavanoids</th>\n",
              "      <th>nonflavanoid_phenols</th>\n",
              "      <th>proanthocyanins</th>\n",
              "      <th>color_intensity</th>\n",
              "      <th>hue</th>\n",
              "      <th>od280/od315_of_diluted_wines</th>\n",
              "      <th>proline</th>\n",
              "    </tr>\n",
              "  </thead>\n",
              "  <tbody>\n",
              "    <tr>\n",
              "      <th>0</th>\n",
              "      <td>14.23</td>\n",
              "      <td>1.71</td>\n",
              "      <td>2.43</td>\n",
              "      <td>15.6</td>\n",
              "      <td>127.0</td>\n",
              "      <td>2.80</td>\n",
              "      <td>3.06</td>\n",
              "      <td>0.28</td>\n",
              "      <td>2.29</td>\n",
              "      <td>5.64</td>\n",
              "      <td>1.04</td>\n",
              "      <td>3.92</td>\n",
              "      <td>1065.0</td>\n",
              "    </tr>\n",
              "    <tr>\n",
              "      <th>1</th>\n",
              "      <td>13.20</td>\n",
              "      <td>1.78</td>\n",
              "      <td>2.14</td>\n",
              "      <td>11.2</td>\n",
              "      <td>100.0</td>\n",
              "      <td>2.65</td>\n",
              "      <td>2.76</td>\n",
              "      <td>0.26</td>\n",
              "      <td>1.28</td>\n",
              "      <td>4.38</td>\n",
              "      <td>1.05</td>\n",
              "      <td>3.40</td>\n",
              "      <td>1050.0</td>\n",
              "    </tr>\n",
              "    <tr>\n",
              "      <th>2</th>\n",
              "      <td>13.16</td>\n",
              "      <td>2.36</td>\n",
              "      <td>2.67</td>\n",
              "      <td>18.6</td>\n",
              "      <td>101.0</td>\n",
              "      <td>2.80</td>\n",
              "      <td>3.24</td>\n",
              "      <td>0.30</td>\n",
              "      <td>2.81</td>\n",
              "      <td>5.68</td>\n",
              "      <td>1.03</td>\n",
              "      <td>3.17</td>\n",
              "      <td>1185.0</td>\n",
              "    </tr>\n",
              "    <tr>\n",
              "      <th>3</th>\n",
              "      <td>14.37</td>\n",
              "      <td>1.95</td>\n",
              "      <td>2.50</td>\n",
              "      <td>16.8</td>\n",
              "      <td>113.0</td>\n",
              "      <td>3.85</td>\n",
              "      <td>3.49</td>\n",
              "      <td>0.24</td>\n",
              "      <td>2.18</td>\n",
              "      <td>7.80</td>\n",
              "      <td>0.86</td>\n",
              "      <td>3.45</td>\n",
              "      <td>1480.0</td>\n",
              "    </tr>\n",
              "    <tr>\n",
              "      <th>4</th>\n",
              "      <td>13.24</td>\n",
              "      <td>2.59</td>\n",
              "      <td>2.87</td>\n",
              "      <td>21.0</td>\n",
              "      <td>118.0</td>\n",
              "      <td>2.80</td>\n",
              "      <td>2.69</td>\n",
              "      <td>0.39</td>\n",
              "      <td>1.82</td>\n",
              "      <td>4.32</td>\n",
              "      <td>1.04</td>\n",
              "      <td>2.93</td>\n",
              "      <td>735.0</td>\n",
              "    </tr>\n",
              "  </tbody>\n",
              "</table>\n",
              "</div>"
            ],
            "text/plain": [
              "   alcohol  malic_acid   ash  ...   hue  od280/od315_of_diluted_wines  proline\n",
              "0    14.23        1.71  2.43  ...  1.04                          3.92   1065.0\n",
              "1    13.20        1.78  2.14  ...  1.05                          3.40   1050.0\n",
              "2    13.16        2.36  2.67  ...  1.03                          3.17   1185.0\n",
              "3    14.37        1.95  2.50  ...  0.86                          3.45   1480.0\n",
              "4    13.24        2.59  2.87  ...  1.04                          2.93    735.0\n",
              "\n",
              "[5 rows x 13 columns]"
            ]
          },
          "metadata": {
            "tags": []
          },
          "execution_count": 6
        }
      ]
    },
    {
      "cell_type": "code",
      "metadata": {
        "id": "XkeOSsc8MFnl"
      },
      "source": [
        "df=X.join(pd.Series(Y, name='Class'))"
      ],
      "execution_count": 7,
      "outputs": []
    },
    {
      "cell_type": "code",
      "metadata": {
        "colab": {
          "base_uri": "https://localhost:8080/",
          "height": 204
        },
        "id": "-7FQcIDKPIqt",
        "outputId": "5ad2ede9-9fc8-4004-9529-956a84c65567"
      },
      "source": [
        "df.head()"
      ],
      "execution_count": 8,
      "outputs": [
        {
          "output_type": "execute_result",
          "data": {
            "text/html": [
              "<div>\n",
              "<style scoped>\n",
              "    .dataframe tbody tr th:only-of-type {\n",
              "        vertical-align: middle;\n",
              "    }\n",
              "\n",
              "    .dataframe tbody tr th {\n",
              "        vertical-align: top;\n",
              "    }\n",
              "\n",
              "    .dataframe thead th {\n",
              "        text-align: right;\n",
              "    }\n",
              "</style>\n",
              "<table border=\"1\" class=\"dataframe\">\n",
              "  <thead>\n",
              "    <tr style=\"text-align: right;\">\n",
              "      <th></th>\n",
              "      <th>alcohol</th>\n",
              "      <th>malic_acid</th>\n",
              "      <th>ash</th>\n",
              "      <th>alcalinity_of_ash</th>\n",
              "      <th>magnesium</th>\n",
              "      <th>total_phenols</th>\n",
              "      <th>flavanoids</th>\n",
              "      <th>nonflavanoid_phenols</th>\n",
              "      <th>proanthocyanins</th>\n",
              "      <th>color_intensity</th>\n",
              "      <th>hue</th>\n",
              "      <th>od280/od315_of_diluted_wines</th>\n",
              "      <th>proline</th>\n",
              "      <th>Class</th>\n",
              "    </tr>\n",
              "  </thead>\n",
              "  <tbody>\n",
              "    <tr>\n",
              "      <th>0</th>\n",
              "      <td>14.23</td>\n",
              "      <td>1.71</td>\n",
              "      <td>2.43</td>\n",
              "      <td>15.6</td>\n",
              "      <td>127.0</td>\n",
              "      <td>2.80</td>\n",
              "      <td>3.06</td>\n",
              "      <td>0.28</td>\n",
              "      <td>2.29</td>\n",
              "      <td>5.64</td>\n",
              "      <td>1.04</td>\n",
              "      <td>3.92</td>\n",
              "      <td>1065.0</td>\n",
              "      <td>class_0</td>\n",
              "    </tr>\n",
              "    <tr>\n",
              "      <th>1</th>\n",
              "      <td>13.20</td>\n",
              "      <td>1.78</td>\n",
              "      <td>2.14</td>\n",
              "      <td>11.2</td>\n",
              "      <td>100.0</td>\n",
              "      <td>2.65</td>\n",
              "      <td>2.76</td>\n",
              "      <td>0.26</td>\n",
              "      <td>1.28</td>\n",
              "      <td>4.38</td>\n",
              "      <td>1.05</td>\n",
              "      <td>3.40</td>\n",
              "      <td>1050.0</td>\n",
              "      <td>class_0</td>\n",
              "    </tr>\n",
              "    <tr>\n",
              "      <th>2</th>\n",
              "      <td>13.16</td>\n",
              "      <td>2.36</td>\n",
              "      <td>2.67</td>\n",
              "      <td>18.6</td>\n",
              "      <td>101.0</td>\n",
              "      <td>2.80</td>\n",
              "      <td>3.24</td>\n",
              "      <td>0.30</td>\n",
              "      <td>2.81</td>\n",
              "      <td>5.68</td>\n",
              "      <td>1.03</td>\n",
              "      <td>3.17</td>\n",
              "      <td>1185.0</td>\n",
              "      <td>class_0</td>\n",
              "    </tr>\n",
              "    <tr>\n",
              "      <th>3</th>\n",
              "      <td>14.37</td>\n",
              "      <td>1.95</td>\n",
              "      <td>2.50</td>\n",
              "      <td>16.8</td>\n",
              "      <td>113.0</td>\n",
              "      <td>3.85</td>\n",
              "      <td>3.49</td>\n",
              "      <td>0.24</td>\n",
              "      <td>2.18</td>\n",
              "      <td>7.80</td>\n",
              "      <td>0.86</td>\n",
              "      <td>3.45</td>\n",
              "      <td>1480.0</td>\n",
              "      <td>class_0</td>\n",
              "    </tr>\n",
              "    <tr>\n",
              "      <th>4</th>\n",
              "      <td>13.24</td>\n",
              "      <td>2.59</td>\n",
              "      <td>2.87</td>\n",
              "      <td>21.0</td>\n",
              "      <td>118.0</td>\n",
              "      <td>2.80</td>\n",
              "      <td>2.69</td>\n",
              "      <td>0.39</td>\n",
              "      <td>1.82</td>\n",
              "      <td>4.32</td>\n",
              "      <td>1.04</td>\n",
              "      <td>2.93</td>\n",
              "      <td>735.0</td>\n",
              "      <td>class_0</td>\n",
              "    </tr>\n",
              "  </tbody>\n",
              "</table>\n",
              "</div>"
            ],
            "text/plain": [
              "   alcohol  malic_acid   ash  ...  od280/od315_of_diluted_wines  proline    Class\n",
              "0    14.23        1.71  2.43  ...                          3.92   1065.0  class_0\n",
              "1    13.20        1.78  2.14  ...                          3.40   1050.0  class_0\n",
              "2    13.16        2.36  2.67  ...                          3.17   1185.0  class_0\n",
              "3    14.37        1.95  2.50  ...                          3.45   1480.0  class_0\n",
              "4    13.24        2.59  2.87  ...                          2.93    735.0  class_0\n",
              "\n",
              "[5 rows x 14 columns]"
            ]
          },
          "metadata": {
            "tags": []
          },
          "execution_count": 8
        }
      ]
    },
    {
      "cell_type": "code",
      "metadata": {
        "colab": {
          "base_uri": "https://localhost:8080/",
          "height": 452
        },
        "id": "MptLwtGHRgng",
        "outputId": "e248bc85-efed-42b0-90c2-7722b7e9ba46"
      },
      "source": [
        "class_feature_means = pd.DataFrame(columns=wine.target_names)\n",
        "for c, rows in df.groupby('Class'):\n",
        "    class_feature_means[c] = rows.mean()\n",
        "\n",
        "class_feature_means"
      ],
      "execution_count": 26,
      "outputs": [
        {
          "output_type": "execute_result",
          "data": {
            "text/html": [
              "<div>\n",
              "<style scoped>\n",
              "    .dataframe tbody tr th:only-of-type {\n",
              "        vertical-align: middle;\n",
              "    }\n",
              "\n",
              "    .dataframe tbody tr th {\n",
              "        vertical-align: top;\n",
              "    }\n",
              "\n",
              "    .dataframe thead th {\n",
              "        text-align: right;\n",
              "    }\n",
              "</style>\n",
              "<table border=\"1\" class=\"dataframe\">\n",
              "  <thead>\n",
              "    <tr style=\"text-align: right;\">\n",
              "      <th></th>\n",
              "      <th>class_0</th>\n",
              "      <th>class_1</th>\n",
              "      <th>class_2</th>\n",
              "    </tr>\n",
              "  </thead>\n",
              "  <tbody>\n",
              "    <tr>\n",
              "      <th>alcohol</th>\n",
              "      <td>13.744746</td>\n",
              "      <td>12.278732</td>\n",
              "      <td>13.153750</td>\n",
              "    </tr>\n",
              "    <tr>\n",
              "      <th>malic_acid</th>\n",
              "      <td>2.010678</td>\n",
              "      <td>1.932676</td>\n",
              "      <td>3.333750</td>\n",
              "    </tr>\n",
              "    <tr>\n",
              "      <th>ash</th>\n",
              "      <td>2.455593</td>\n",
              "      <td>2.244789</td>\n",
              "      <td>2.437083</td>\n",
              "    </tr>\n",
              "    <tr>\n",
              "      <th>alcalinity_of_ash</th>\n",
              "      <td>17.037288</td>\n",
              "      <td>20.238028</td>\n",
              "      <td>21.416667</td>\n",
              "    </tr>\n",
              "    <tr>\n",
              "      <th>magnesium</th>\n",
              "      <td>106.338983</td>\n",
              "      <td>94.549296</td>\n",
              "      <td>99.312500</td>\n",
              "    </tr>\n",
              "    <tr>\n",
              "      <th>total_phenols</th>\n",
              "      <td>2.840169</td>\n",
              "      <td>2.258873</td>\n",
              "      <td>1.678750</td>\n",
              "    </tr>\n",
              "    <tr>\n",
              "      <th>flavanoids</th>\n",
              "      <td>2.982373</td>\n",
              "      <td>2.080845</td>\n",
              "      <td>0.781458</td>\n",
              "    </tr>\n",
              "    <tr>\n",
              "      <th>nonflavanoid_phenols</th>\n",
              "      <td>0.290000</td>\n",
              "      <td>0.363662</td>\n",
              "      <td>0.447500</td>\n",
              "    </tr>\n",
              "    <tr>\n",
              "      <th>proanthocyanins</th>\n",
              "      <td>1.899322</td>\n",
              "      <td>1.630282</td>\n",
              "      <td>1.153542</td>\n",
              "    </tr>\n",
              "    <tr>\n",
              "      <th>color_intensity</th>\n",
              "      <td>5.528305</td>\n",
              "      <td>3.086620</td>\n",
              "      <td>7.396250</td>\n",
              "    </tr>\n",
              "    <tr>\n",
              "      <th>hue</th>\n",
              "      <td>1.062034</td>\n",
              "      <td>1.056282</td>\n",
              "      <td>0.682708</td>\n",
              "    </tr>\n",
              "    <tr>\n",
              "      <th>od280/od315_of_diluted_wines</th>\n",
              "      <td>3.157797</td>\n",
              "      <td>2.785352</td>\n",
              "      <td>1.683542</td>\n",
              "    </tr>\n",
              "    <tr>\n",
              "      <th>proline</th>\n",
              "      <td>1115.711864</td>\n",
              "      <td>519.507042</td>\n",
              "      <td>629.895833</td>\n",
              "    </tr>\n",
              "  </tbody>\n",
              "</table>\n",
              "</div>"
            ],
            "text/plain": [
              "                                  class_0     class_1     class_2\n",
              "alcohol                         13.744746   12.278732   13.153750\n",
              "malic_acid                       2.010678    1.932676    3.333750\n",
              "ash                              2.455593    2.244789    2.437083\n",
              "alcalinity_of_ash               17.037288   20.238028   21.416667\n",
              "magnesium                      106.338983   94.549296   99.312500\n",
              "total_phenols                    2.840169    2.258873    1.678750\n",
              "flavanoids                       2.982373    2.080845    0.781458\n",
              "nonflavanoid_phenols             0.290000    0.363662    0.447500\n",
              "proanthocyanins                  1.899322    1.630282    1.153542\n",
              "color_intensity                  5.528305    3.086620    7.396250\n",
              "hue                              1.062034    1.056282    0.682708\n",
              "od280/od315_of_diluted_wines     3.157797    2.785352    1.683542\n",
              "proline                       1115.711864  519.507042  629.895833"
            ]
          },
          "metadata": {
            "tags": []
          },
          "execution_count": 26
        }
      ]
    },
    {
      "cell_type": "code",
      "metadata": {
        "id": "pRnzor2OTkMi"
      },
      "source": [
        "within_class_scatter_matrix=np.zeros((13,13))\n",
        "\n",
        "for classes, rows in df.groupby('Class'):\n",
        "  rows=rows.drop(['Class'], axis=1) \n",
        "  s = np.zeros((13,13))\n",
        "\n",
        "  for index, row in rows.iterrows():\n",
        "    x, mc = row.values.reshape(13,1), class_feature_means[classes].values.reshape(13,1)\n",
        "        \n",
        "    s += (x - mc).dot((x - mc).T)\n",
        "    assert s.shape == (13,13)\n",
        "    \n",
        "    within_class_scatter_matrix += s\n",
        "\n"
      ],
      "execution_count": 41,
      "outputs": []
    },
    {
      "cell_type": "code",
      "metadata": {
        "colab": {
          "base_uri": "https://localhost:8080/"
        },
        "id": "ThYWrZz34pER",
        "outputId": "bb2f7eae-ae1b-420d-efe9-c2185bf2d667"
      },
      "source": [
        "feature_means = df.mean()\n",
        "between_class_scatter_matrix = np.zeros((13,13))\n",
        "for c in class_feature_means:    \n",
        "    n = len(df.loc[df['Class'] == c].index)\n",
        "    \n",
        "    mc, m = class_feature_means[c].values.reshape(13,1), feature_means.values.reshape(13,1)\n",
        "    \n",
        "    between_class_scatter_matrix += n * (mc - m).dot((mc - m).T)"
      ],
      "execution_count": 50,
      "outputs": [
        {
          "output_type": "stream",
          "text": [
            "alcohol                          13.000618\n",
            "malic_acid                        2.336348\n",
            "ash                               2.366517\n",
            "alcalinity_of_ash                19.494944\n",
            "magnesium                        99.741573\n",
            "total_phenols                     2.295112\n",
            "flavanoids                        2.029270\n",
            "nonflavanoid_phenols              0.361854\n",
            "proanthocyanins                   1.590899\n",
            "color_intensity                   5.058090\n",
            "hue                               0.957449\n",
            "od280/od315_of_diluted_wines      2.611685\n",
            "proline                         746.893258\n",
            "dtype: float64\n"
          ],
          "name": "stdout"
        }
      ]
    },
    {
      "cell_type": "code",
      "metadata": {
        "id": "H3cERDPSBQu0"
      },
      "source": [
        "eigen_values, eigen_vectors = np.linalg.eig(np.linalg.inv(within_class_scatter_matrix).dot(between_class_scatter_matrix))\n"
      ],
      "execution_count": 51,
      "outputs": []
    },
    {
      "cell_type": "code",
      "metadata": {
        "id": "9-XHpFXSIzz1",
        "outputId": "0adf5d25-4192-4567-f29e-ddcdb43b8b49",
        "colab": {
          "base_uri": "https://localhost:8080/"
        }
      },
      "source": [
        "pairs = [(np.abs(eigen_values[i]), eigen_vectors[:,i]) for i in range(len(eigen_values))]\n",
        "pairs = sorted(pairs, key=lambda x: x[0], reverse=True)\n",
        "for pair in pairs:\n",
        "    print(pair[0])\n",
        "\n",
        "eigen_value_sums = sum(eigen_values)\n",
        "print('Explained Variance')\n",
        "for i, pair in enumerate(pairs):\n",
        "    print('Eigenvector {}: {}'.format(i, (pair[0]/eigen_value_sums).real))"
      ],
      "execution_count": 52,
      "outputs": [
        {
          "output_type": "stream",
          "text": [
            "0.2815779062784266\n",
            "0.13792561974216477\n",
            "2.1488578287755778e-17\n",
            "2.1488578287755778e-17\n",
            "1.939270479015945e-17\n",
            "1.939270479015945e-17\n",
            "1.3301211148737774e-17\n",
            "1.3301211148737774e-17\n",
            "1.2326939035286387e-17\n",
            "4.9880520946975355e-18\n",
            "3.1745979422486077e-18\n",
            "1.869821557199728e-18\n",
            "0.0\n",
            "Explained Variance\n",
            "Eigenvector 0: 0.6712170191976058\n",
            "Eigenvector 1: 0.3287829808023942\n",
            "Eigenvector 2: 5.12238323515331e-17\n",
            "Eigenvector 3: 5.12238323515331e-17\n",
            "Eigenvector 4: 4.622775158559109e-17\n",
            "Eigenvector 5: 4.622775158559109e-17\n",
            "Eigenvector 6: 3.17070306295468e-17\n",
            "Eigenvector 7: 3.17070306295468e-17\n",
            "Eigenvector 8: 2.938458980838535e-17\n",
            "Eigenvector 9: 1.1890369890365822e-17\n",
            "Eigenvector 10: 7.567511940514136e-18\n",
            "Eigenvector 11: 4.457224888994015e-18\n",
            "Eigenvector 12: 0.0\n"
          ],
          "name": "stdout"
        }
      ]
    },
    {
      "cell_type": "code",
      "metadata": {
        "id": "b7CFveY2JcFl",
        "outputId": "e84a0f96-d451-437c-9923-f6b640a47bbd",
        "colab": {
          "base_uri": "https://localhost:8080/"
        }
      },
      "source": [
        "w_matrix = np.hstack((pairs[0][1].reshape(13,1), pairs[1][1].reshape(13,1))).real\n",
        "print(w_matrix)"
      ],
      "execution_count": 58,
      "outputs": [
        {
          "output_type": "stream",
          "text": [
            "[[ 4.78613580e-02  2.08200530e-01]\n",
            " [-5.33979428e-02  1.14665448e-01]\n",
            " [ 1.22647124e-01  6.82869444e-01]\n",
            " [-4.73524842e-02 -4.54383821e-02]\n",
            " [ 2.26325222e-03 -6.78679390e-04]\n",
            " [-2.20279613e-01 -2.53847483e-02]\n",
            " [ 5.40859473e-01 -1.20783289e-01]\n",
            " [ 6.85984244e-01 -6.14844501e-01]\n",
            " [-1.31567307e-01 -6.81942103e-02]\n",
            " [-9.73951452e-02  7.13086024e-02]\n",
            " [ 1.93342100e-01 -2.63283244e-01]\n",
            " [ 3.19005262e-01  5.29905874e-02]\n",
            " [ 7.04269493e-04  6.36089717e-04]]\n"
          ],
          "name": "stdout"
        }
      ]
    },
    {
      "cell_type": "code",
      "metadata": {
        "id": "6YzvPMrNJvsj"
      },
      "source": [
        "X_lda = np.array(X.dot(w_matrix))"
      ],
      "execution_count": 59,
      "outputs": []
    },
    {
      "cell_type": "code",
      "metadata": {
        "id": "viWgrRVBKCoS"
      },
      "source": [
        "le = LabelEncoder()\n",
        "y = le.fit_transform(df['Class'])"
      ],
      "execution_count": 61,
      "outputs": []
    },
    {
      "cell_type": "code",
      "metadata": {
        "id": "392IOq4AKI6o",
        "outputId": "c55057bd-42c4-45a8-df1b-1370698fdcc0",
        "colab": {
          "base_uri": "https://localhost:8080/",
          "height": 296
        }
      },
      "source": [
        "plt.xlabel('LD1')\n",
        "plt.ylabel('LD2')\n",
        "plt.scatter(\n",
        "    X_lda[:,0],\n",
        "    X_lda[:,1],\n",
        "    c=y,\n",
        "    cmap='rainbow',\n",
        "    alpha=0.7,\n",
        "    edgecolors='b'\n",
        ")"
      ],
      "execution_count": 62,
      "outputs": [
        {
          "output_type": "execute_result",
          "data": {
            "text/plain": [
              "<matplotlib.collections.PathCollection at 0x7fe18be24150>"
            ]
          },
          "metadata": {
            "tags": []
          },
          "execution_count": 62
        },
        {
          "output_type": "display_data",
          "data": {
            "image/png": "[encoded data removed]",
            "text/plain": [
              "<Figure size 432x288 with 1 Axes>"
            ]
          },
          "metadata": {
            "tags": [],
            "needs_background": "light"
          }
        }
      ]
    },
    {
      "cell_type": "code",
      "metadata": {
        "id": "sMwRk48_KVnw"
      },
      "source": [
        "d"
      ],
      "execution_count": null,
      "outputs": []
    }
  ]
}